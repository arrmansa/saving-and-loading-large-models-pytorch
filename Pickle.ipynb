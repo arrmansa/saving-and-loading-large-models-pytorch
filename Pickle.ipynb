{
 "cells": [
  {
   "cell_type": "markdown",
   "id": "553237e3",
   "metadata": {},
   "source": [
    "# Import the model in the cell below"
   ]
  },
  {
   "cell_type": "code",
   "execution_count": null,
   "id": "ee37dda3",
   "metadata": {},
   "outputs": [],
   "source": [
    "model = #something"
   ]
  },
  {
   "cell_type": "markdown",
   "id": "35072f6c",
   "metadata": {},
   "source": [
    "# Import pickle"
   ]
  },
  {
   "cell_type": "code",
   "execution_count": null,
   "id": "1840867f",
   "metadata": {},
   "outputs": [],
   "source": [
    "import pickle"
   ]
  },
  {
   "cell_type": "markdown",
   "id": "2c124e1f",
   "metadata": {},
   "source": [
    "# Set the directory"
   ]
  },
  {
   "cell_type": "code",
   "execution_count": null,
   "id": "b5fc54ab",
   "metadata": {},
   "outputs": [],
   "source": [
    "directory = \"parts/\""
   ]
  },
  {
   "cell_type": "markdown",
   "id": "429fe68b",
   "metadata": {},
   "source": [
    "# Save the model"
   ]
  },
  {
   "cell_type": "code",
   "execution_count": null,
   "id": "42091ef9",
   "metadata": {},
   "outputs": [],
   "source": [
    "count = 0\n",
    "for i in model.parameters():\n",
    "    count += 1\n",
    "    i.requires_grad = False #True causes problems while loading\n",
    "    #print(count,i)\n",
    "    with open(directory + str(count) + \".pkl\", 'wb') as f:\n",
    "        pickle.dump(i, f)\n",
    "    i.data = torch.tensor(0)\n",
    "    \n",
    "with open(directory + \"emptymodel\" + \".pkl\", 'wb') as f:\n",
    "    pickle.dump(model, f)\n",
    "\n",
    "#print(count) #optional"
   ]
  },
  {
   "cell_type": "markdown",
   "id": "c60330e1",
   "metadata": {},
   "source": [
    "# Load the model"
   ]
  },
  {
   "cell_type": "code",
   "execution_count": null,
   "id": "0ff813cc",
   "metadata": {},
   "outputs": [],
   "source": [
    "with open(directory + \"emptymodel\" + \".pkl\", 'rb') as f:\n",
    "    model = pickle.load(f)\n",
    "count = 0\n",
    "for i in model.parameters():\n",
    "    count += 1\n",
    "    #print(count,i)\n",
    "    with open(directory + str(count) + \".pkl\", 'rb') as f:\n",
    "        current_layer = pickle.load(f)\n",
    "    i.data = current_layer.data\n",
    "    \n",
    "#print(count) #optional"
   ]
  }
 ],
 "metadata": {
  "kernelspec": {
   "display_name": "Python 3",
   "language": "python",
   "name": "python3"
  },
  "language_info": {
   "codemirror_mode": {
    "name": "ipython",
    "version": 3
   },
   "file_extension": ".py",
   "mimetype": "text/x-python",
   "name": "python",
   "nbconvert_exporter": "python",
   "pygments_lexer": "ipython3",
   "version": "3.7.10"
  }
 },
 "nbformat": 4,
 "nbformat_minor": 5
}
